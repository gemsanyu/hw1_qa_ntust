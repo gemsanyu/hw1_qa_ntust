{
 "cells": [
  {
   "cell_type": "code",
   "execution_count": 21,
   "id": "8debf357",
   "metadata": {},
   "outputs": [],
   "source": [
    "import numpy as np\n",
    "import pandas as pd\n",
    "import matplotlib.pyplot as plt\n",
    "import seaborn as sns\n",
    "from custom_aggregator import GroupStatsAggregator\n",
    "from sklearn.preprocessing import LabelEncoder\n",
    "\n",
    "data = pd.read_csv(\"final.csv\", encoding=\"latin-1\")\n",
    "encoder = LabelEncoder()\n",
    "data[\"Industry\"]=encoder.fit_transform(data[\"Industry\"])\n",
    "# print(label)\n",
    "data = data.drop(columns=[\"Unnamed: 0\",\"cluster\"])"
   ]
  },
  {
   "cell_type": "code",
   "execution_count": 37,
   "id": "9b2480be",
   "metadata": {},
   "outputs": [],
   "source": [
    "from custom_aggregator import DataFrameWrapper\n",
    "from catboost import CatBoostRegressor\n",
    "from sklearn.preprocessing import MinMaxScaler\n",
    "from sklearn.preprocessing import StandardScaler\n",
    "from sklearn.preprocessing import RobustScaler\n",
    "from sklearn.preprocessing import QuantileTransformer\n",
    "from sklearn.preprocessing import KBinsDiscretizer\n",
    "from sklearn.decomposition import TruncatedSVD\n",
    "from sklearn.feature_selection import RFE\n",
    "\n",
    "from sklearn.compose import ColumnTransformer\n",
    "\n",
    "from sklearn.pipeline import Pipeline\n",
    "from sklearn.pipeline import FeatureUnion\n",
    "\n",
    "numeric_columns = ['MR', 'TRC', 'BAB', 'EV', 'P/B', 'PSR', 'ROA', 'C/A', 'D/A', 'PG', 'AG', 'Industry-cluster-MR-mean', 'Industry-cluster-TRC-mean', 'Industry-cluster-BAB-mean', 'Industry-cluster-EV-mean', 'Industry-cluster-P/B-mean', 'Industry-cluster-PSR-mean', 'Industry-cluster-ROA-mean', 'Industry-cluster-C/A-mean', 'Industry-cluster-D/A-mean', 'Industry-cluster-PG-mean', 'Industry-cluster-AG-mean', 'Industry-MR-mean', 'Industry-TRC-mean', 'Industry-BAB-mean', 'Industry-EV-mean', 'Industry-P/B-mean', 'Industry-PSR-mean', 'Industry-ROA-mean', 'Industry-C/A-mean', 'Industry-D/A-mean', 'Industry-PG-mean', 'Industry-AG-mean', 'cluster-MR-mean', 'cluster-TRC-mean', 'cluster-BAB-mean', 'cluster-EV-mean', 'cluster-P/B-mean', 'cluster-PSR-mean', 'cluster-ROA-mean', 'cluster-C/A-mean', 'cluster-D/A-mean', 'cluster-PG-mean', 'cluster-AG-mean']\n",
    "transforms = [\n",
    "('mms', DataFrameWrapper(MinMaxScaler(), columns=numeric_columns)),\n",
    "('ss', DataFrameWrapper(StandardScaler(), columns=numeric_columns)),\n",
    "('rs', DataFrameWrapper(RobustScaler(), columns=numeric_columns)),\n",
    "('qt', DataFrameWrapper(QuantileTransformer(n_quantiles=100, output_distribution='normal'), columns=numeric_columns)),\n",
    "('kbd', DataFrameWrapper(KBinsDiscretizer(n_bins=10, encode='ordinal', strategy='uniform'), columns=numeric_columns)),\n",
    "('svd', DataFrameWrapper(TruncatedSVD(n_components=7), columns=numeric_columns)),\n",
    "]\n",
    "fu = FeatureUnion(transforms).set_output(transform=\"pandas\")\n",
    "fu = DataFrameWrapper(fu)\n",
    "cat_columns = [\"Industry\", \"cluster\"]\n",
    "preprocessor = ColumnTransformer([\n",
    "    ('num', fu, numeric_columns)\n",
    "])\n",
    "preprocessor.set_output(transform=\"pandas\")\n",
    "wrapped_preprocessor = DataFrameWrapper(preprocessor)\n",
    "rfe_estimator = CatBoostRegressor(iterations=100, depth=3, learning_rate=0.1, verbose=0)\n",
    "rfe = RFE(estimator=rfe_estimator, n_features_to_select=8)\n",
    "\n",
    "steps = []\n",
    "steps.append((\"gsa\",GroupStatsAggregator()))\n",
    "steps.append((\"preprocess\",wrapped_preprocessor))\n",
    "steps.append((\"rfe\",rfe))\n",
    "steps.append((\"regressor\",CatBoostRegressor(iterations=100,depth=5,learning_rate=0.1,verbose=0)))\n",
    "model = Pipeline(steps)"
   ]
  },
  {
   "cell_type": "code",
   "execution_count": 38,
   "id": "f56142f7",
   "metadata": {},
   "outputs": [
    {
     "name": "stdout",
     "output_type": "stream",
     "text": [
      "[-0.09586233 -0.09833973 -0.11007229 -0.15970213 -0.15227857]\n"
     ]
    }
   ],
   "source": [
    "from sklearn.model_selection import cross_val_score\n",
    "X = data.drop(columns=[\"Yt.1M\"])\n",
    "y = data[\"Yt.1M\"]\n",
    "cv_scores = cross_val_score(model, X, y, cv=5, scoring='neg_root_mean_squared_error', n_jobs=-1)\n",
    "print(cv_scores)"
   ]
  },
  {
   "cell_type": "code",
   "execution_count": null,
   "id": "84ae9a33",
   "metadata": {},
   "outputs": [
    {
     "name": "stdout",
     "output_type": "stream",
     "text": [
      "[-0.0928226  -0.09991592 -0.11065924 -0.16234354 -0.15295522]\n"
     ]
    }
   ],
   "source": [
    "\n",
    "selector = model.named_steps[\"rfe\"]\n",
    "print(selector.get_support())\n",
    "# regressor = model.named_steps[\"regressor\"]\n",
    "# feature_importances = regressor.get_feature_importance()\n",
    "# feature_names = regressor.feature_names_\n",
    "# importance_df = pd.DataFrame({\n",
    "#     'Feature': feature_names,\n",
    "#     'Importance': feature_importances\n",
    "# }).sort_values(by='Importance', ascending=False)\n",
    "\n",
    "# print(importance_df)"
   ]
  },
  {
   "cell_type": "code",
   "execution_count": null,
   "id": "718aed29",
   "metadata": {},
   "outputs": [],
   "source": []
  }
 ],
 "metadata": {
  "kernelspec": {
   "display_name": "vrp",
   "language": "python",
   "name": "python3"
  },
  "language_info": {
   "codemirror_mode": {
    "name": "ipython",
    "version": 3
   },
   "file_extension": ".py",
   "mimetype": "text/x-python",
   "name": "python",
   "nbconvert_exporter": "python",
   "pygments_lexer": "ipython3",
   "version": "3.10.15"
  }
 },
 "nbformat": 4,
 "nbformat_minor": 5
}
