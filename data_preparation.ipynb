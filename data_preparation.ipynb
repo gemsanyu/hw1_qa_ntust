{
 "cells": [
  {
   "cell_type": "code",
   "execution_count": 3,
   "id": "ef210b5c",
   "metadata": {},
   "outputs": [],
   "source": [
    "import pandas as pd\n",
    "from sklearn.preprocessing import LabelEncoder\n",
    "\n",
    "data = pd.read_csv(\"homework_1.csv\", encoding=\"latin-1\")\n",
    "encoder = LabelEncoder()\n",
    "data[\"Industry\"]=encoder.fit_transform(data[\"Industry\"])\n",
    "data = data.drop(columns=[\"Yt.2M\",\"Yt.3M\",\"Code\"])\n",
    "data[\"EV\"] = data['EV'].str.replace(\",\",\"\").astype(float)\n",
    "data[\"PSR\"] = data['PSR'].str.replace(\"#DIV/0!\",\"Nan\").astype(float)\n",
    "data = data.dropna()"
   ]
  },
  {
   "cell_type": "code",
   "execution_count": 7,
   "id": "eff72ec6",
   "metadata": {},
   "outputs": [],
   "source": [
    "from sklearn.model_selection import train_test_split\n",
    "\n",
    "X = data.drop(columns=[\"Yt.1M\"])\n",
    "y = data[\"Yt.1M\"]\n",
    "X_train, X_test, y_train, y_test = train_test_split(\n",
    "    X, y, \n",
    "    test_size=0.2,     # 20% for testing\n",
    "    random_state=42,   # ensures reproducibility\n",
    "    shuffle=True       # shuffle before splitting\n",
    ")"
   ]
  },
  {
   "cell_type": "code",
   "execution_count": 8,
   "id": "07eaeaa0",
   "metadata": {},
   "outputs": [
    {
     "name": "stdout",
     "output_type": "stream",
     "text": [
      "Industry        int32\n",
      "MR            float64\n",
      "MR.PR         float64\n",
      "MR.Decile       int64\n",
      "TVC           float64\n",
      "TVC.PR        float64\n",
      "TVC.Decile      int64\n",
      "TRC           float64\n",
      "TRC.PR        float64\n",
      "TRC.Decile      int64\n",
      "BAB           float64\n",
      "BAB.PR        float64\n",
      "BAB.Decile      int64\n",
      "EV            float64\n",
      "EV.PR         float64\n",
      "EV.Decile       int64\n",
      "P/B           float64\n",
      "P/B.PR        float64\n",
      "P/B.Decile      int64\n",
      "PSR           float64\n",
      "PSR.PR        float64\n",
      "PSR.Decile      int64\n",
      "ROE           float64\n",
      "ROE.PR        float64\n",
      "ROE.Decile      int64\n",
      "ROA           float64\n",
      "ROA.PR        float64\n",
      "ROA.Decile      int64\n",
      "C/A           float64\n",
      "C/A.PR        float64\n",
      "C/A.Decile      int64\n",
      "D/A           float64\n",
      "D/A.PR        float64\n",
      "D/A.Decile      int64\n",
      "PG            float64\n",
      "PG.PR         float64\n",
      "PG.Decile       int64\n",
      "AG            float64\n",
      "AG.PR         float64\n",
      "AG.Decile       int64\n",
      "dtype: object\n"
     ]
    }
   ],
   "source": [
    "print(X_train.dtypes)\n",
    "X_train.to_csv(\"X_train.csv\")\n",
    "X_test.to_csv(\"X_test.csv\")\n",
    "y_train.to_csv(\"y_train.csv\")\n",
    "y_test.to_csv(\"y_test.csv\")"
   ]
  }
 ],
 "metadata": {
  "kernelspec": {
   "display_name": "rust-pruning",
   "language": "python",
   "name": "python3"
  },
  "language_info": {
   "codemirror_mode": {
    "name": "ipython",
    "version": 3
   },
   "file_extension": ".py",
   "mimetype": "text/x-python",
   "name": "python",
   "nbconvert_exporter": "python",
   "pygments_lexer": "ipython3",
   "version": "3.8.19"
  }
 },
 "nbformat": 4,
 "nbformat_minor": 5
}
