{
 "cells": [
  {
   "cell_type": "code",
   "execution_count": null,
   "id": "ef210b5c",
   "metadata": {},
   "outputs": [],
   "source": [
    "import pandas as pd\n",
    "from sklearn.preprocessing import LabelEncoder\n",
    "\n",
    "data = pd.read_csv(\"homework_1.csv\", encoding=\"latin-1\")\n",
    "encoder = LabelEncoder()\n",
    "data[\"Industry\"]=encoder.fit_transform(data[\"Industry\"])\n",
    "data = data.drop(columns=[\"Yt.2M\",\"Yt.3M\",\"Code\"])\n",
    "data[\"EV\"] = data['EV'].str.replace(\",\",\"\").astype(float)\n",
    "data[\"PSR\"] = data['PSR'].str.replace(\"#DIV/0!\",\"Nan\").astype(float)\n",
    "data = data.dropna()"
   ]
  },
  {
   "cell_type": "code",
   "execution_count": 3,
   "id": "2645d6b8",
   "metadata": {},
   "outputs": [],
   "source": [
    "import pandas as pd\n",
    "from sklearn.preprocessing import LabelEncoder\n",
    "\n",
    "data = pd.read_csv(\"homework_1.csv\", encoding=\"latin-1\")\n",
    "# encoder = LabelEncoder()\n",
    "# data[\"Industry\"]=encoder.fit_transform(data[\"Industry\"])\n",
    "data = data.drop(columns=[\"Yt.2M\",\"Yt.3M\"])\n",
    "data[\"EV\"] = data['EV'].str.replace(\",\",\"\").astype(float)\n",
    "# data[\"PSR\"] = data['PSR'].str.replace(\"#DIV/0!\",\"Nan\").astype(float)\n",
    "data[[\"Yt.1M\",\"Industry\",\"MR\",\"TVC\",\"TRC\",\"BAB\",\"EV\",\"P/B\",\"PSR\",\"ROE\",\"ROA\",\"C/A\",\"D/A\",\"PG\",\"AG\"]]\n",
    "data = data.dropna()\n",
    "data.to_csv(\"dataset_tugas_4.csv\")"
   ]
  },
  {
   "cell_type": "code",
   "execution_count": null,
   "id": "eff72ec6",
   "metadata": {},
   "outputs": [],
   "source": [
    "from sklearn.model_selection import train_test_split\n",
    "\n",
    "X = data.drop(columns=[\"Yt.1M\"])\n",
    "y = data[\"Yt.1M\"]\n",
    "X_train, X_test, y_train, y_test = train_test_split(\n",
    "    X, y, \n",
    "    test_size=0.2,     # 20% for testing\n",
    "    random_state=42,   # ensures reproducibility\n",
    "    shuffle=True       # shuffle before splitting\n",
    ")"
   ]
  },
  {
   "cell_type": "code",
   "execution_count": 4,
   "id": "07eaeaa0",
   "metadata": {},
   "outputs": [],
   "source": [
    "X_train.to_csv(\"X_train.csv\")\n",
    "X_test.to_csv(\"X_test.csv\")\n",
    "y_train.to_csv(\"y_train.csv\")\n",
    "y_test.to_csv(\"y_test.csv\")"
   ]
  }
 ],
 "metadata": {
  "kernelspec": {
   "display_name": "vrp",
   "language": "python",
   "name": "python3"
  },
  "language_info": {
   "codemirror_mode": {
    "name": "ipython",
    "version": 3
   },
   "file_extension": ".py",
   "mimetype": "text/x-python",
   "name": "python",
   "nbconvert_exporter": "python",
   "pygments_lexer": "ipython3",
   "version": "3.10.15"
  }
 },
 "nbformat": 4,
 "nbformat_minor": 5
}
